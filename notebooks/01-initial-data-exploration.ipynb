{
 "cells": [
  {
   "cell_type": "code",
   "execution_count": null,
   "id": "c0f9fade",
   "metadata": {
    "vscode": {
     "languageId": "plaintext"
    }
   },
   "outputs": [],
   "source": [
    "import pandas as pd\n",
    "import os\n",
    "\n",
    "# Đặt đường dẫn tới thư mục chứa dữ liệu thô\n",
    "DATA_PATH = '../data/raw/'\n",
    "\n",
    "# Liệt kê tất cả các file trong thư mục để chắc chắn chúng ta có đủ\n",
    "csv_files = [f for f in os.listdir(DATA_PATH) if f.endswith('.csv')]\n",
    "print(\"Các file dữ liệu có trong thư mục:\")\n",
    "print(csv_files)"
   ]
  },
  {
   "cell_type": "code",
   "execution_count": null,
   "id": "1895061e",
   "metadata": {
    "vscode": {
     "languageId": "plaintext"
    }
   },
   "outputs": [],
   "source": [
    "# Đọc file orders\n",
    "orders_df = pd.read_csv(os.path.join(DATA_PATH, 'olist_orders_dataset.csv'))\n",
    "\n",
    "# Xem 5 dòng đầu tiên để hình dung cấu trúc\n",
    "print(\"5 dòng đầu của dữ liệu đơn hàng:\")\n",
    "display(orders_df.head())\n",
    "\n",
    "# Kiểm tra thông tin tổng quan: số dòng, số cột, kiểu dữ liệu, non-null\n",
    "print(\"\\nThông tin tổng quan (info):\")\n",
    "orders_df.info()\n",
    "\n",
    "# Kiểm tra số lượng giá trị bị thiếu trên mỗi cột\n",
    "print(\"\\nSố lượng giá trị thiếu (missing values):\")\n",
    "print(orders_df.isnull().sum())"
   ]
  },
  {
   "cell_type": "code",
   "execution_count": null,
   "id": "465481e0",
   "metadata": {
    "vscode": {
     "languageId": "plaintext"
    }
   },
   "outputs": [],
   "source": [
    "# Đọc file order_items\n",
    "items_df = pd.read_csv(os.path.join(DATA_PATH, 'olist_order_items_dataset.csv'))\n",
    "\n",
    "# Xem 5 dòng đầu\n",
    "print(\"5 dòng đầu của dữ liệu sản phẩm trong đơn hàng:\")\n",
    "display(items_df.head())\n",
    "\n",
    "# Kiểm tra thông tin tổng quan\n",
    "print(\"\\nThông tin tổng quan (info):\")\n",
    "items_df.info()"
   ]
  },
  {
   "cell_type": "code",
   "execution_count": null,
   "id": "80c9876e",
   "metadata": {
    "vscode": {
     "languageId": "plaintext"
    }
   },
   "outputs": [],
   "source": [
    "# Đọc file customers\n",
    "customers_df = pd.read_csv(os.path.join(DATA_PATH, 'olist_customers_dataset.csv'))\n",
    "\n",
    "# Xem 5 dòng đầu\n",
    "print(\"5 dòng đầu của dữ liệu khách hàng:\")\n",
    "display(customers_df.head())\n",
    "\n",
    "# Kiểm tra thông tin tổng quan\n",
    "print(\"\\nThông tin tổng quan (info):\")\n",
    "customers_df.info()"
   ]
  },
  {
   "cell_type": "code",
   "execution_count": null,
   "id": "8f6d0d49",
   "metadata": {
    "vscode": {
     "languageId": "plaintext"
    }
   },
   "outputs": [],
   "source": []
  }
 ],
 "metadata": {
  "language_info": {
   "name": "python"
  }
 },
 "nbformat": 4,
 "nbformat_minor": 5
}
