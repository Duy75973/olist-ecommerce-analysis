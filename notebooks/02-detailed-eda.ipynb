{
 "cells": [
  {
   "cell_type": "code",
   "execution_count": null,
   "id": "141ec332",
   "metadata": {
    "vscode": {
     "languageId": "plaintext"
    }
   },
   "outputs": [],
   "source": [
    "!pip install pandas matplotlib seaborn sqlalchemy"
   ]
  },
  {
   "cell_type": "code",
   "execution_count": null,
   "id": "fbf07615",
   "metadata": {
    "vscode": {
     "languageId": "plaintext"
    }
   },
   "outputs": [],
   "source": [
    "import pandas as pd\n",
    "import matplotlib.pyplot as plt\n",
    "import seaborn as sns\n",
    "from sqlalchemy import create_engine\n",
    "from dotenv import load_dotenv\n",
    "import os\n",
    "\n",
    "# --- Thiết lập môi trường ---\n",
    "# Tải các biến môi trường từ file .env\n",
    "load_dotenv()\n",
    "\n",
    "# Lấy thông tin kết nối từ biến môi trường\n",
    "db_user = os.getenv('MYSQL_USER')\n",
    "db_password = os.getenv('MYSQL_PASSWORD')\n",
    "db_host = os.getenv('MYSQL_HOST')\n",
    "db_port = os.getenv('MYSQL_PORT')\n",
    "db_name = os.getenv('MYSQL_DATABASE')\n",
    "\n",
    "# --- Tạo kết nối tới Database ---\n",
    "# Chuỗi kết nối (connection string)\n",
    "connection_string = f\"mysql+pymysql://{db_user}:{db_password}@{db_host}:{db_port}/{db_name}\"\n",
    "\n",
    "try:\n",
    "    engine = create_engine(connection_string)\n",
    "    print(\"Kết nối tới database thành công!\")\n",
    "except Exception as e:\n",
    "    print(f\"Lỗi kết nối database: {e}\")\n",
    "\n",
    "# --- Thiết lập style cho biểu đồ ---\n",
    "sns.set_style(\"whitegrid\")\n",
    "plt.rcParams['figure.figsize'] = (12, 7)\n",
    "plt.rcParams['font.size'] = 12"
   ]
  },
  {
   "cell_type": "code",
   "execution_count": null,
   "id": "c4498fbd",
   "metadata": {
    "vscode": {
     "languageId": "plaintext"
    }
   },
   "outputs": [],
   "source": [
    "# --- Phân tích 1: Doanh thu theo bang ---\n",
    "\n",
    "# 1. Viết câu lệnh SQL\n",
    "query_revenue_by_state = \"\"\"\n",
    "SELECT\n",
    "    c.customer_state,\n",
    "    SUM(oi.price + oi.freight_value) AS total_revenue\n",
    "FROM\n",
    "    orders o\n",
    "JOIN\n",
    "    customers c ON o.customer_id = c.customer_id\n",
    "JOIN\n",
    "    order_items oi ON o.order_id = oi.order_id\n",
    "GROUP BY\n",
    "    c.customer_state\n",
    "ORDER BY\n",
    "    total_revenue DESC\n",
    "LIMIT 10;\n",
    "\"\"\"\n",
    "\n",
    "# 2. Thực thi và lấy dữ liệu\n",
    "df_revenue_state = pd.read_sql(query_revenue_by_state, engine)\n",
    "print(\"Top 10 bang theo doanh thu:\")\n",
    "display(df_revenue_state)\n",
    "\n",
    "# 3. Trực quan hóa\n",
    "sns.barplot(\n",
    "    data=df_revenue_state,\n",
    "    x='total_revenue',\n",
    "    y='customer_state',\n",
    "    palette='viridis'\n",
    ")\n",
    "plt.title('Top 10 Bang có Doanh thu Cao nhất')\n",
    "plt.xlabel('Tổng Doanh thu (triệu R$)')\n",
    "plt.ylabel('Bang')\n",
    "plt.show()"
   ]
  },
  {
   "cell_type": "code",
   "execution_count": null,
   "id": "36c14617",
   "metadata": {
    "vscode": {
     "languageId": "plaintext"
    }
   },
   "outputs": [],
   "source": [
    "# --- Phân tích 2: Thời gian giao hàng và Review Score ---\n",
    "\n",
    "# 1. Viết câu lệnh SQL\n",
    "# DATEDIFF dùng để tính số ngày chênh lệch\n",
    "query_delivery_time_review = \"\"\"\n",
    "SELECT\n",
    "    r.review_score,\n",
    "    AVG(DATEDIFF(o.order_delivered_customer_date, o.order_purchase_timestamp)) AS avg_delivery_days\n",
    "FROM\n",
    "    orders o\n",
    "JOIN\n",
    "    order_reviews r ON o.order_id = r.order_id\n",
    "WHERE\n",
    "    o.order_status = 'delivered'\n",
    "    AND o.order_delivered_customer_date IS NOT NULL\n",
    "GROUP BY\n",
    "    r.review_score\n",
    "ORDER BY\n",
    "    r.review_score ASC;\n",
    "\"\"\"\n",
    "\n",
    "# 2. Thực thi và lấy dữ liệu\n",
    "df_delivery_review = pd.read_sql(query_delivery_time_review, engine)\n",
    "print(\"Thời gian giao hàng trung bình theo từng Review Score:\")\n",
    "display(df_delivery_review)\n",
    "\n",
    "# 3. Trực quan hóa\n",
    "sns.barplot(\n",
    "    data=df_delivery_review,\n",
    "    x='review_score',\n",
    "    y='avg_delivery_days',\n",
    "    palette='coolwarm'\n",
    ")\n",
    "plt.title('Thời gian Giao hàng Trung bình và Điểm Đánh giá')\n",
    "plt.xlabel('Điểm Đánh giá (Review Score)')\n",
    "plt.ylabel('Số ngày Giao hàng Trung bình')\n",
    "plt.show()"
   ]
  },
  {
   "cell_type": "code",
   "execution_count": null,
   "id": "f83e6db3",
   "metadata": {
    "vscode": {
     "languageId": "plaintext"
    }
   },
   "outputs": [],
   "source": [
    "# --- Phân tích 3: Top danh mục sản phẩm theo doanh thu ---\n",
    "\n",
    "# 1. Viết câu lệnh SQL\n",
    "query_top_categories = \"\"\"\n",
    "SELECT\n",
    "    p.product_category_name,\n",
    "    SUM(oi.price) AS total_revenue\n",
    "FROM\n",
    "    order_items oi\n",
    "JOIN\n",
    "    products p ON oi.product_id = p.product_id\n",
    "GROUP BY\n",
    "    p.product_category_name\n",
    "ORDER BY\n",
    "    total_revenue DESC\n",
    "LIMIT 10;\n",
    "\"\"\"\n",
    "\n",
    "# 2. Thực thi và lấy dữ liệu\n",
    "df_top_categories = pd.read_sql(query_top_categories, engine)\n",
    "print(\"Top 10 danh mục sản phẩm theo doanh thu:\")\n",
    "display(df_top_categories)\n",
    "\n",
    "# 3. Trực quan hóa\n",
    "sns.barplot(\n",
    "    data=df_top_categories,\n",
    "    x='total_revenue',\n",
    "    y='product_category_name',\n",
    "    palette='plasma'\n",
    ")\n",
    "plt.title('Top 10 Danh mục Sản phẩm có Doanh thu Cao nhất')\n",
    "plt.xlabel('Tổng Doanh thu')\n",
    "plt.ylabel('Danh mục Sản phẩm')\n",
    "plt.show()"
   ]
  }
 ],
 "metadata": {
  "language_info": {
   "name": "python"
  }
 },
 "nbformat": 4,
 "nbformat_minor": 5
}
