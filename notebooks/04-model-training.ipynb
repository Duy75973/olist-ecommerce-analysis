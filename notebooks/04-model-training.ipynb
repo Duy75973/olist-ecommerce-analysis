{
 "cells": [
  {
   "cell_type": "code",
   "execution_count": null,
   "id": "713b2e7f",
   "metadata": {
    "vscode": {
     "languageId": "plaintext"
    }
   },
   "outputs": [],
   "source": [
    "import pandas as pd\n",
    "import numpy as np\n",
    "import joblib\n",
    "from sklearn.model_selection import train_test_split\n",
    "from sklearn.compose import ColumnTransformer\n",
    "from sklearn.pipeline import Pipeline\n",
    "from sklearn.preprocessing import StandardScaler, OneHotEncoder\n",
    "from sklearn.metrics import classification_report, accuracy_score, ConfusionMatrixDisplay\n",
    "import lightgbm as lgb\n",
    "import matplotlib.pyplot as plt\n",
    "\n",
    "# Tải dữ liệu\n",
    "df = pd.read_csv('../data/processed/model_ready_data.csv')\n",
    "\n",
    "print(\"Dữ liệu đã sẵn sàng cho mô hình:\")\n",
    "display(df.head())\n",
    "df.info()"
   ]
  },
  {
   "cell_type": "code",
   "execution_count": null,
   "id": "65a89f3e",
   "metadata": {
    "vscode": {
     "languageId": "plaintext"
    }
   },
   "outputs": [],
   "source": [
    "# 1. Tách Features (X) và Target (y)\n",
    "X = df.drop('review_score', axis=1)\n",
    "y = df['review_score']\n",
    "\n",
    "# 2. Phân loại các cột\n",
    "numeric_features = X.select_dtypes(include=np.number).columns.tolist()\n",
    "categorical_features = X.select_dtypes(include='object').columns.tolist()\n",
    "\n",
    "print(f\"Numeric features: {numeric_features}\")\n",
    "print(f\"Categorical features: {categorical_features}\")\n",
    "\n",
    "# 3. Xây dựng pipeline tiền xử lý (preprocessor)\n",
    "#    - Đối với các cột số: Chuẩn hóa dữ liệu (scaling).\n",
    "#    - Đối với các cột category: Chuyển đổi thành các cột nhị phân (One-Hot Encoding).\n",
    "preprocessor = ColumnTransformer(\n",
    "    transformers=[\n",
    "        ('num', StandardScaler(), numeric_features),\n",
    "        ('cat', OneHotEncoder(handle_unknown='ignore'), categorical_features)\n",
    "    ],\n",
    "    remainder='passthrough'\n",
    ")\n",
    "\n",
    "# 4. Chọn mô hình\n",
    "# LightGBM là một lựa chọn mạnh và nhanh cho dữ liệu dạng bảng\n",
    "model = lgb.LGBMClassifier(random_state=42)\n",
    "\n",
    "# 5. Kết hợp preprocessor và model thành một pipeline hoàn chỉnh\n",
    "# Điều này đảm bảo rằng dữ liệu test cũng sẽ được xử lý y hệt dữ liệu train\n",
    "full_pipeline = Pipeline(steps=[\n",
    "    ('preprocessor', preprocessor),\n",
    "    ('classifier', model)\n",
    "])\n",
    "\n",
    "print(\"\\nPipeline đã được xây dựng thành công!\")"
   ]
  },
  {
   "cell_type": "code",
   "execution_count": null,
   "id": "454bdb1c",
   "metadata": {
    "vscode": {
     "languageId": "plaintext"
    }
   },
   "outputs": [],
   "source": [
    "# 1. Chia dữ liệu thành tập train và test (80% train, 20% test)\n",
    "# `stratify=y` rất quan trọng để đảm bảo tỷ lệ các lớp review_score trong tập train và test là như nhau\n",
    "X_train, X_test, y_train, y_test = train_test_split(\n",
    "    X, y, test_size=0.2, random_state=42, stratify=y\n",
    ")\n",
    "\n",
    "print(f\"Kích thước tập train: {X_train.shape}\")\n",
    "print(f\"Kích thước tập test: {X_test.shape}\")\n",
    "\n",
    "# 2. Huấn luyện pipeline\n",
    "print(\"\\nBắt đầu huấn luyện mô hình...\")\n",
    "full_pipeline.fit(X_train, y_train)\n",
    "print(\"Huấn luyện hoàn tất!\")\n",
    "\n",
    "# 3. Đưa ra dự đoán trên tập test\n",
    "y_pred = full_pipeline.predict(X_test)\n",
    "\n",
    "# 4. Đánh giá mô hình\n",
    "accuracy = accuracy_score(y_test, y_pred)\n",
    "report = classification_report(y_test, y_pred)\n",
    "\n",
    "print(f\"\\nĐộ chính xác (Accuracy): {accuracy:.4f}\")\n",
    "print(\"\\nBáo cáo phân loại (Classification Report):\")\n",
    "print(report)\n",
    "\n",
    "# 5. Trực quan hóa ma trận nhầm lẫn (Confusion Matrix)\n",
    "print(\"\\nMa trận nhầm lẫn:\")\n",
    "fig, ax = plt.subplots(figsize=(8, 8))\n",
    "ConfusionMatrixDisplay.from_estimator(full_pipeline, X_test, y_test,\n",
    "                                      cmap=plt.cm.Blues,\n",
    "                                      ax=ax,\n",
    "                                      normalize='true') # Normalize để xem tỷ lệ %\n",
    "plt.title('Ma trận nhầm lẫn (Normalised)')\n",
    "plt.show()"
   ]
  },
  {
   "cell_type": "code",
   "execution_count": null,
   "id": "53318447",
   "metadata": {
    "vscode": {
     "languageId": "plaintext"
    }
   },
   "outputs": [],
   "source": [
    "# Tạo thư mục models nếu chưa có\n",
    "os.makedirs('../models', exist_ok=True)\n",
    "\n",
    "# Lưu pipeline vào file\n",
    "model_path = '../models/lgbm_review_score_predictor.joblib'\n",
    "joblib.dump(full_pipeline, model_path)\n",
    "\n",
    "print(f\"\\nĐã lưu mô hình đã huấn luyện tại: {model_path}\")"
   ]
  }
 ],
 "metadata": {
  "language_info": {
   "name": "python"
  }
 },
 "nbformat": 4,
 "nbformat_minor": 5
}
