{
 "cells": [
  {
   "cell_type": "code",
   "execution_count": 1,
   "id": "713b2e7f",
   "metadata": {
    "vscode": {
     "languageId": "plaintext"
    }
   },
   "outputs": [
    {
     "name": "stdout",
     "output_type": "stream",
     "text": [
      "Dữ liệu đã sẵn sàng cho mô hình:\n"
     ]
    },
    {
     "data": {
      "text/html": [
       "<div>\n",
       "<style scoped>\n",
       "    .dataframe tbody tr th:only-of-type {\n",
       "        vertical-align: middle;\n",
       "    }\n",
       "\n",
       "    .dataframe tbody tr th {\n",
       "        vertical-align: top;\n",
       "    }\n",
       "\n",
       "    .dataframe thead th {\n",
       "        text-align: right;\n",
       "    }\n",
       "</style>\n",
       "<table border=\"1\" class=\"dataframe\">\n",
       "  <thead>\n",
       "    <tr style=\"text-align: right;\">\n",
       "      <th></th>\n",
       "      <th>review_score</th>\n",
       "      <th>price</th>\n",
       "      <th>freight_value</th>\n",
       "      <th>product_weight_g</th>\n",
       "      <th>product_volume_cm3</th>\n",
       "      <th>delivery_days</th>\n",
       "      <th>delivery_delay</th>\n",
       "      <th>freight_ratio</th>\n",
       "      <th>purchase_day_of_week</th>\n",
       "      <th>product_category_name</th>\n",
       "      <th>seller_state</th>\n",
       "      <th>customer_state</th>\n",
       "    </tr>\n",
       "  </thead>\n",
       "  <tbody>\n",
       "    <tr>\n",
       "      <th>0</th>\n",
       "      <td>5</td>\n",
       "      <td>58.90</td>\n",
       "      <td>13.29</td>\n",
       "      <td>650.0</td>\n",
       "      <td>3528.0</td>\n",
       "      <td>7.614421</td>\n",
       "      <td>-8.011250</td>\n",
       "      <td>0.225637</td>\n",
       "      <td>2</td>\n",
       "      <td>cool_stuff</td>\n",
       "      <td>SP</td>\n",
       "      <td>RJ</td>\n",
       "    </tr>\n",
       "    <tr>\n",
       "      <th>1</th>\n",
       "      <td>4</td>\n",
       "      <td>239.90</td>\n",
       "      <td>19.93</td>\n",
       "      <td>30000.0</td>\n",
       "      <td>60000.0</td>\n",
       "      <td>16.216181</td>\n",
       "      <td>-2.330278</td>\n",
       "      <td>0.083076</td>\n",
       "      <td>2</td>\n",
       "      <td>pet_shop</td>\n",
       "      <td>SP</td>\n",
       "      <td>SP</td>\n",
       "    </tr>\n",
       "    <tr>\n",
       "      <th>2</th>\n",
       "      <td>5</td>\n",
       "      <td>199.00</td>\n",
       "      <td>17.87</td>\n",
       "      <td>3050.0</td>\n",
       "      <td>14157.0</td>\n",
       "      <td>7.948437</td>\n",
       "      <td>-13.444954</td>\n",
       "      <td>0.089799</td>\n",
       "      <td>6</td>\n",
       "      <td>moveis_decoracao</td>\n",
       "      <td>MG</td>\n",
       "      <td>MG</td>\n",
       "    </tr>\n",
       "    <tr>\n",
       "      <th>3</th>\n",
       "      <td>4</td>\n",
       "      <td>12.99</td>\n",
       "      <td>12.79</td>\n",
       "      <td>200.0</td>\n",
       "      <td>2400.0</td>\n",
       "      <td>6.147269</td>\n",
       "      <td>-5.435660</td>\n",
       "      <td>0.984603</td>\n",
       "      <td>2</td>\n",
       "      <td>perfumaria</td>\n",
       "      <td>SP</td>\n",
       "      <td>SP</td>\n",
       "    </tr>\n",
       "    <tr>\n",
       "      <th>4</th>\n",
       "      <td>5</td>\n",
       "      <td>199.90</td>\n",
       "      <td>18.14</td>\n",
       "      <td>3750.0</td>\n",
       "      <td>42000.0</td>\n",
       "      <td>25.114352</td>\n",
       "      <td>-15.303808</td>\n",
       "      <td>0.090745</td>\n",
       "      <td>5</td>\n",
       "      <td>ferramentas_jardim</td>\n",
       "      <td>PR</td>\n",
       "      <td>SP</td>\n",
       "    </tr>\n",
       "  </tbody>\n",
       "</table>\n",
       "</div>"
      ],
      "text/plain": [
       "   review_score   price  freight_value  product_weight_g  product_volume_cm3  \\\n",
       "0             5   58.90          13.29             650.0              3528.0   \n",
       "1             4  239.90          19.93           30000.0             60000.0   \n",
       "2             5  199.00          17.87            3050.0             14157.0   \n",
       "3             4   12.99          12.79             200.0              2400.0   \n",
       "4             5  199.90          18.14            3750.0             42000.0   \n",
       "\n",
       "   delivery_days  delivery_delay  freight_ratio  purchase_day_of_week  \\\n",
       "0       7.614421       -8.011250       0.225637                     2   \n",
       "1      16.216181       -2.330278       0.083076                     2   \n",
       "2       7.948437      -13.444954       0.089799                     6   \n",
       "3       6.147269       -5.435660       0.984603                     2   \n",
       "4      25.114352      -15.303808       0.090745                     5   \n",
       "\n",
       "  product_category_name seller_state customer_state  \n",
       "0            cool_stuff           SP             RJ  \n",
       "1              pet_shop           SP             SP  \n",
       "2      moveis_decoracao           MG             MG  \n",
       "3            perfumaria           SP             SP  \n",
       "4    ferramentas_jardim           PR             SP  "
      ]
     },
     "metadata": {},
     "output_type": "display_data"
    },
    {
     "name": "stdout",
     "output_type": "stream",
     "text": [
      "<class 'pandas.core.frame.DataFrame'>\n",
      "RangeIndex: 110005 entries, 0 to 110004\n",
      "Data columns (total 12 columns):\n",
      " #   Column                 Non-Null Count   Dtype  \n",
      "---  ------                 --------------   -----  \n",
      " 0   review_score           110005 non-null  int64  \n",
      " 1   price                  110005 non-null  float64\n",
      " 2   freight_value          110005 non-null  float64\n",
      " 3   product_weight_g       110005 non-null  float64\n",
      " 4   product_volume_cm3     110005 non-null  float64\n",
      " 5   delivery_days          110005 non-null  float64\n",
      " 6   delivery_delay         110005 non-null  float64\n",
      " 7   freight_ratio          110005 non-null  float64\n",
      " 8   purchase_day_of_week   110005 non-null  int64  \n",
      " 9   product_category_name  110005 non-null  object \n",
      " 10  seller_state           110005 non-null  object \n",
      " 11  customer_state         110005 non-null  object \n",
      "dtypes: float64(7), int64(2), object(3)\n",
      "memory usage: 10.1+ MB\n"
     ]
    }
   ],
   "source": [
    "import pandas as pd\n",
    "import numpy as np\n",
    "import joblib\n",
    "from sklearn.model_selection import train_test_split\n",
    "from sklearn.compose import ColumnTransformer\n",
    "from sklearn.pipeline import Pipeline\n",
    "from sklearn.preprocessing import StandardScaler, OneHotEncoder\n",
    "from sklearn.metrics import classification_report, accuracy_score, ConfusionMatrixDisplay\n",
    "import lightgbm as lgb\n",
    "import matplotlib.pyplot as plt\n",
    "\n",
    "# Tải dữ liệu\n",
    "df = pd.read_csv('../data/processed/model_ready_data.csv')\n",
    "\n",
    "print(\"Dữ liệu đã sẵn sàng cho mô hình:\")\n",
    "display(df.head())\n",
    "df.info()"
   ]
  },
  {
   "cell_type": "code",
   "execution_count": 2,
   "id": "65a89f3e",
   "metadata": {
    "vscode": {
     "languageId": "plaintext"
    }
   },
   "outputs": [
    {
     "name": "stdout",
     "output_type": "stream",
     "text": [
      "Numeric features: ['price', 'freight_value', 'product_weight_g', 'product_volume_cm3', 'delivery_days', 'delivery_delay', 'freight_ratio', 'purchase_day_of_week']\n",
      "Categorical features: ['product_category_name', 'seller_state', 'customer_state']\n",
      "\n",
      "Pipeline đã được xây dựng thành công!\n"
     ]
    }
   ],
   "source": [
    "# 1. Tách Features (X) và Target (y)\n",
    "X = df.drop('review_score', axis=1)\n",
    "y = df['review_score']\n",
    "\n",
    "# 2. Phân loại các cột\n",
    "numeric_features = X.select_dtypes(include=np.number).columns.tolist()\n",
    "categorical_features = X.select_dtypes(include='object').columns.tolist()\n",
    "\n",
    "print(f\"Numeric features: {numeric_features}\")\n",
    "print(f\"Categorical features: {categorical_features}\")\n",
    "\n",
    "# 3. Xây dựng pipeline tiền xử lý (preprocessor)\n",
    "#    - Đối với các cột số: Chuẩn hóa dữ liệu (scaling).\n",
    "#    - Đối với các cột category: Chuyển đổi thành các cột nhị phân (One-Hot Encoding).\n",
    "preprocessor = ColumnTransformer(\n",
    "    transformers=[\n",
    "        ('num', StandardScaler(), numeric_features),\n",
    "        ('cat', OneHotEncoder(handle_unknown='ignore'), categorical_features)\n",
    "    ],\n",
    "    remainder='passthrough'\n",
    ")\n",
    "\n",
    "# 4. Chọn mô hình\n",
    "# LightGBM là một lựa chọn mạnh và nhanh cho dữ liệu dạng bảng\n",
    "model = lgb.LGBMClassifier(random_state=42)\n",
    "\n",
    "# 5. Kết hợp preprocessor và model thành một pipeline hoàn chỉnh\n",
    "# Điều này đảm bảo rằng dữ liệu test cũng sẽ được xử lý y hệt dữ liệu train\n",
    "full_pipeline = Pipeline(steps=[\n",
    "    ('preprocessor', preprocessor),\n",
    "    ('classifier', model)\n",
    "])\n",
    "\n",
    "print(\"\\nPipeline đã được xây dựng thành công!\")"
   ]
  },
  {
   "cell_type": "code",
   "execution_count": 3,
   "id": "454bdb1c",
   "metadata": {
    "vscode": {
     "languageId": "plaintext"
    }
   },
   "outputs": [
    {
     "name": "stdout",
     "output_type": "stream",
     "text": [
      "Kích thước tập train: (88004, 11)\n",
      "Kích thước tập test: (22001, 11)\n",
      "\n",
      "Bắt đầu huấn luyện mô hình...\n",
      "[LightGBM] [Info] Auto-choosing row-wise multi-threading, the overhead of testing was 0.005157 seconds.\n",
      "You can set `force_row_wise=true` to remove the overhead.\n",
      "And if memory is not enough, you can set `force_col_wise=true`.\n",
      "[LightGBM] [Info] Total Bins 2015\n",
      "[LightGBM] [Info] Number of data points in the train set: 88004, number of used features: 119\n",
      "[LightGBM] [Info] Start training from score -2.168915\n",
      "[LightGBM] [Info] Start training from score -3.392193\n",
      "[LightGBM] [Info] Start training from score -2.476713\n",
      "[LightGBM] [Info] Start training from score -1.647291\n",
      "[LightGBM] [Info] Start training from score -0.552562\n",
      "Huấn luyện hoàn tất!\n"
     ]
    },
    {
     "name": "stderr",
     "output_type": "stream",
     "text": [
      "D:\\project DA\\olist-ecommerce-analysis\\venv\\Lib\\site-packages\\sklearn\\utils\\validation.py:2749: UserWarning: X does not have valid feature names, but LGBMClassifier was fitted with feature names\n",
      "  warnings.warn(\n"
     ]
    },
    {
     "name": "stdout",
     "output_type": "stream",
     "text": [
      "\n",
      "Độ chính xác (Accuracy): 0.6055\n",
      "\n",
      "Báo cáo phân loại (Classification Report):\n",
      "              precision    recall  f1-score   support\n",
      "\n",
      "           1       0.62      0.31      0.41      2515\n",
      "           2       0.76      0.03      0.05       740\n",
      "           3       0.72      0.01      0.01      1848\n",
      "           4       0.52      0.01      0.02      4237\n",
      "           5       0.60      0.99      0.75     12661\n",
      "\n",
      "    accuracy                           0.61     22001\n",
      "   macro avg       0.64      0.27      0.25     22001\n",
      "weighted avg       0.60      0.61      0.48     22001\n",
      "\n",
      "\n",
      "Ma trận nhầm lẫn:\n"
     ]
    },
    {
     "name": "stderr",
     "output_type": "stream",
     "text": [
      "D:\\project DA\\olist-ecommerce-analysis\\venv\\Lib\\site-packages\\sklearn\\utils\\validation.py:2749: UserWarning: X does not have valid feature names, but LGBMClassifier was fitted with feature names\n",
      "  warnings.warn(\n"
     ]
    },
    {
     "data": {
      "image/png": "[encoded data removed]",
      "text/plain": [
       "<Figure size 800x800 with 2 Axes>"
      ]
     },
     "metadata": {},
     "output_type": "display_data"
    }
   ],
   "source": [
    "# 1. Chia dữ liệu thành tập train và test (80% train, 20% test)\n",
    "# `stratify=y` rất quan trọng để đảm bảo tỷ lệ các lớp review_score trong tập train và test là như nhau\n",
    "X_train, X_test, y_train, y_test = train_test_split(\n",
    "    X, y, test_size=0.2, random_state=42, stratify=y\n",
    ")\n",
    "\n",
    "print(f\"Kích thước tập train: {X_train.shape}\")\n",
    "print(f\"Kích thước tập test: {X_test.shape}\")\n",
    "\n",
    "# 2. Huấn luyện pipeline\n",
    "print(\"\\nBắt đầu huấn luyện mô hình...\")\n",
    "full_pipeline.fit(X_train, y_train)\n",
    "print(\"Huấn luyện hoàn tất!\")\n",
    "\n",
    "# 3. Đưa ra dự đoán trên tập test\n",
    "y_pred = full_pipeline.predict(X_test)\n",
    "\n",
    "# 4. Đánh giá mô hình\n",
    "accuracy = accuracy_score(y_test, y_pred)\n",
    "report = classification_report(y_test, y_pred)\n",
    "\n",
    "print(f\"\\nĐộ chính xác (Accuracy): {accuracy:.4f}\")\n",
    "print(\"\\nBáo cáo phân loại (Classification Report):\")\n",
    "print(report)\n",
    "\n",
    "# 5. Trực quan hóa ma trận nhầm lẫn (Confusion Matrix)\n",
    "print(\"\\nMa trận nhầm lẫn:\")\n",
    "fig, ax = plt.subplots(figsize=(8, 8))\n",
    "ConfusionMatrixDisplay.from_estimator(full_pipeline, X_test, y_test,\n",
    "                                      cmap=plt.cm.Blues,\n",
    "                                      ax=ax,\n",
    "                                      normalize='true') # Normalize để xem tỷ lệ %\n",
    "plt.title('Ma trận nhầm lẫn (Normalised)')\n",
    "plt.show()"
   ]
  },
  {
   "cell_type": "code",
   "execution_count": 5,
   "id": "53318447",
   "metadata": {
    "vscode": {
     "languageId": "plaintext"
    }
   },
   "outputs": [
    {
     "name": "stdout",
     "output_type": "stream",
     "text": [
      "\n",
      "Đã lưu mô hình đã huấn luyện tại: ../models/lgbm_review_score_predictor.joblib\n"
     ]
    }
   ],
   "source": [
    "# Tạo thư mục models nếu chưa có\n",
    "import os\n",
    "os.makedirs('../models', exist_ok=True)\n",
    "\n",
    "# Lưu pipeline vào file\n",
    "model_path = '../models/lgbm_review_score_predictor.joblib'\n",
    "joblib.dump(full_pipeline, model_path)\n",
    "\n",
    "print(f\"\\nĐã lưu mô hình đã huấn luyện tại: {model_path}\")"
   ]
  },
  {
   "cell_type": "code",
   "execution_count": null,
   "id": "9f49dc5e-33b2-4174-bd08-a8384e23e468",
   "metadata": {},
   "outputs": [],
   "source": []
  }
 ],
 "metadata": {
  "kernelspec": {
   "display_name": "Python 3 (ipykernel)",
   "language": "python",
   "name": "python3"
  },
  "language_info": {
   "codemirror_mode": {
    "name": "ipython",
    "version": 3
   },
   "file_extension": ".py",
   "mimetype": "text/x-python",
   "name": "python",
   "nbconvert_exporter": "python",
   "pygments_lexer": "ipython3",
   "version": "3.13.3"
  }
 },
 "nbformat": 4,
 "nbformat_minor": 5
}
